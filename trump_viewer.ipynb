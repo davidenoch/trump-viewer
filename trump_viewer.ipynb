{
 "cells": [
  {
   "cell_type": "markdown",
   "id": "49e55dea-ec40-43a6-aeed-2c1f152a0882",
   "metadata": {},
   "source": [
    "# Trump-o-Rama\n",
    "[github](https://github.com/davidenoch/trump-viewer/blob/main/readme.md)\n",
    "\n",
    "[Notebook with code and access to all files](https://mybinder.org/v2/gh/davidenoch/trump-viewer/HEAD)\n",
    "\n",
    "These images are guaranteed to embolden your feelings about \"DJT\" aka \"45\" aka \"The Donald\". \n",
    "\n",
    "Simply drag the slider around to see the image matching the token_id. \n",
    "\n",
    "\n",
    "If you choose a token ID greater than or equal to 27000, \n",
    "\n",
    "you will get a randomly generated image, \n",
    "\n",
    "as DappRadar does not have image files for these tokens."
   ]
  },
  {
   "cell_type": "code",
   "execution_count": 3,
   "id": "90954933-304d-47d0-84de-7d1277cfd78a",
   "metadata": {
    "extensions": {
     "jupyter_dashboards": {
      "version": 1,
      "views": {
       "grid_default": {},
       "report_default": {}
      }
     }
    },
    "tags": []
   },
   "outputs": [],
   "source": [
    "import ipywidgets as widgets\n",
    "import numpy as np\n",
    "def trump_nft_img(token_id):\n",
    "     return f'''<img src=https://dappradar.com/nft-metadata-image?format=big-preview&filePath=polygon/0x24a11e702cd90f034ea44faf1e180c0c654ac5d9/{token_id}.jpg  width=\"500px\"  />'''\n",
    "\n",
    "def browse_images(trump_img_mapper):\n",
    "    n=45000\n",
    "    from IPython.display import display, HTML\n",
    "    def view_image(i):\n",
    "        \n",
    "        display(HTML(trump_img_mapper[i])      )\n",
    "        \n",
    "    widgets.interact(view_image, i=(1,n))\n",
    "\n",
    "trump_img_mapper = {token_id: trump_nft_img(token_id)if token_id < 27000 else trump_nft_img(np.random.randint(1,27000)) for token_id in range(45000) }"
   ]
  },
  {
   "cell_type": "code",
   "execution_count": 4,
   "id": "f3db9963-59b5-4cef-9e98-b3bee60862e8",
   "metadata": {
    "extensions": {
     "jupyter_dashboards": {
      "version": 1,
      "views": {
       "grid_default": {},
       "report_default": {}
      }
     }
    },
    "tags": []
   },
   "outputs": [
    {
     "data": {
      "application/vnd.jupyter.widget-view+json": {
       "model_id": "e7b977ab7fe3465190fcf8f4fbae85c5",
       "version_major": 2,
       "version_minor": 0
      },
      "text/plain": [
       "interactive(children=(IntSlider(value=22500, description='i', max=45000, min=1), Output()), _dom_classes=('wid…"
      ]
     },
     "metadata": {},
     "output_type": "display_data"
    }
   ],
   "source": [
    "browse_images(trump_img_mapper)"
   ]
  },
  {
   "cell_type": "code",
   "execution_count": null,
   "id": "e1bfa78b-dcf7-456a-a271-c1fe3af53522",
   "metadata": {},
   "outputs": [],
   "source": [
    "out = widgets.Output()\n",
    "with out:\n",
    "    "
   ]
  }
 ],
 "metadata": {
  "colab": {
   "name": "Welcome to DataCamp Workspaces.ipynb",
   "provenance": []
  },
  "extensions": {
   "jupyter_dashboards": {
    "activeView": "grid_default",
    "version": 1,
    "views": {
     "grid_default": {
      "cellMargin": 10,
      "defaultCellHeight": 20,
      "maxColumns": 12,
      "name": "grid",
      "type": "grid"
     },
     "report_default": {
      "name": "report",
      "type": "report"
     }
    }
   }
  },
  "kernelspec": {
   "display_name": "Python 3 (ipykernel)",
   "language": "python",
   "name": "python3"
  },
  "language_info": {
   "codemirror_mode": {
    "name": "ipython",
    "version": 3
   },
   "file_extension": ".py",
   "mimetype": "text/x-python",
   "name": "python",
   "nbconvert_exporter": "python",
   "pygments_lexer": "ipython3",
   "version": "3.10.4"
  }
 },
 "nbformat": 4,
 "nbformat_minor": 5
}
