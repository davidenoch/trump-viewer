{
 "cells": [
  {
   "cell_type": "code",
   "execution_count": 81,
   "id": "90954933-304d-47d0-84de-7d1277cfd78a",
   "metadata": {
    "extensions": {
     "jupyter_dashboards": {
      "version": 1,
      "views": {
       "grid_default": {},
       "report_default": {}
      }
     }
    },
    "tags": []
   },
   "outputs": [],
   "source": [
    "import ipywidgets as widgets\n",
    "import numpy as np\n",
    "from IPython.display import display, HTML, Markdown, Video, Javascript, Image\n",
    "def trump_nft_img(token_id):\n",
    "     return f'''<img src=https://dappradar.com/nft-metadata-image?format=big-preview&filePath=polygon/0x24a11e702cd90f034ea44faf1e180c0c654ac5d9/{token_id}.jpg \"  />'''\n",
    "\n",
    "def browse_images(trump_img_mapper):\n",
    "    n=45000\n",
    "    def view_image(i): \n",
    "        display(HTML(trump_img_mapper[i])      )\n",
    "    widgets.interact(view_image, i=(1,n))\n",
    "\n",
    "trump_img_mapper = {token_id: trump_nft_img(token_id)if token_id < 27000 else trump_nft_img(np.random.randint(1,27000)) for token_id in range(45000) }"
   ]
  },
  {
   "cell_type": "code",
   "execution_count": 82,
   "id": "f08e573d-2ff4-443d-bf18-334848900301",
   "metadata": {},
   "outputs": [],
   "source": [
    "s= \"\"\" # Trump-o-Rama\n",
    "[github](https://github.com/davidenoch/trump-viewer/blob/main/readme.md)\n",
    "\n",
    "[Notebook with code and access to all files](https://mybinder.org/v2/gh/davidenoch/trump-viewer/HEAD)\n",
    "\n",
    "These images are guaranteed to embolden your feelings about \"DJT\" aka \"45\" aka \"The Donald\". Simply drag the slider around to see the image matching the token_id. \n",
    "\n",
    "If you choose a token ID greater than or equal to 27000, you will get a randomly generated image, \n",
    "as DappRadar does not have image files for these tokens. \"\"\""
   ]
  },
  {
   "cell_type": "code",
   "execution_count": 83,
   "id": "e1bfa78b-dcf7-456a-a271-c1fe3af53522",
   "metadata": {},
   "outputs": [],
   "source": [
    "col1 = widgets.Output(layout=widgets.Layout(width='500px'))\n",
    "with col1:\n",
    "    display(Markdown(s))\n",
    "    browse_images(trump_img_mapper)\n",
    "   \n",
    "\n",
    "    "
   ]
  },
  {
   "cell_type": "code",
   "execution_count": 84,
   "id": "d8c1f38c-afa2-4d2f-9cb1-9b9bb1022b87",
   "metadata": {},
   "outputs": [
    {
     "data": {
      "application/vnd.jupyter.widget-view+json": {
       "model_id": "75d0d4bf145d4ce4b3b764f368b266ca",
       "version_major": 2,
       "version_minor": 0
      },
      "text/plain": [
       "Output(layout=Layout(width='500px'))"
      ]
     },
     "execution_count": 84,
     "metadata": {},
     "output_type": "execute_result"
    }
   ],
   "source": [
    "col1"
   ]
  }
 ],
 "metadata": {
  "colab": {
   "name": "Welcome to DataCamp Workspaces.ipynb",
   "provenance": []
  },
  "extensions": {
   "jupyter_dashboards": {
    "activeView": "grid_default",
    "version": 1,
    "views": {
     "grid_default": {
      "cellMargin": 10,
      "defaultCellHeight": 20,
      "maxColumns": 12,
      "name": "grid",
      "type": "grid"
     },
     "report_default": {
      "name": "report",
      "type": "report"
     }
    }
   }
  },
  "kernelspec": {
   "display_name": "Python 3 (ipykernel)",
   "language": "python",
   "name": "python3"
  },
  "language_info": {
   "codemirror_mode": {
    "name": "ipython",
    "version": 3
   },
   "file_extension": ".py",
   "mimetype": "text/x-python",
   "name": "python",
   "nbconvert_exporter": "python",
   "pygments_lexer": "ipython3",
   "version": "3.10.4"
  }
 },
 "nbformat": 4,
 "nbformat_minor": 5
}
